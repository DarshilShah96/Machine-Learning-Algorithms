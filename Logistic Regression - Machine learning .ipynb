{
 "cells": [
  {
   "cell_type": "code",
   "execution_count": 9,
   "metadata": {},
   "outputs": [],
   "source": [
    "import pandas as pd\n",
    "import numpy as np\n",
    "import matplotlib.pyplot as plt\n",
    "import seaborn as sns"
   ]
  },
  {
   "cell_type": "code",
   "execution_count": 10,
   "metadata": {},
   "outputs": [],
   "source": [
    "housing = pd.read_csv('USA_Housing.csv')"
   ]
  },
  {
   "cell_type": "code",
   "execution_count": 11,
   "metadata": {},
   "outputs": [
    {
     "data": {
      "text/html": [
       "<div>\n",
       "<style scoped>\n",
       "    .dataframe tbody tr th:only-of-type {\n",
       "        vertical-align: middle;\n",
       "    }\n",
       "\n",
       "    .dataframe tbody tr th {\n",
       "        vertical-align: top;\n",
       "    }\n",
       "\n",
       "    .dataframe thead th {\n",
       "        text-align: right;\n",
       "    }\n",
       "</style>\n",
       "<table border=\"1\" class=\"dataframe\">\n",
       "  <thead>\n",
       "    <tr style=\"text-align: right;\">\n",
       "      <th></th>\n",
       "      <th>Avg. Area Income</th>\n",
       "      <th>Avg. Area House Age</th>\n",
       "      <th>Avg. Area Number of Rooms</th>\n",
       "      <th>Avg. Area Number of Bedrooms</th>\n",
       "      <th>Area Population</th>\n",
       "      <th>Price</th>\n",
       "      <th>Address</th>\n",
       "    </tr>\n",
       "  </thead>\n",
       "  <tbody>\n",
       "    <tr>\n",
       "      <th>0</th>\n",
       "      <td>79545.458574</td>\n",
       "      <td>5.682861</td>\n",
       "      <td>7.009188</td>\n",
       "      <td>4.09</td>\n",
       "      <td>23086.800503</td>\n",
       "      <td>1.059034e+06</td>\n",
       "      <td>208 Michael Ferry Apt. 674\\nLaurabury, NE 3701...</td>\n",
       "    </tr>\n",
       "    <tr>\n",
       "      <th>1</th>\n",
       "      <td>79248.642455</td>\n",
       "      <td>6.002900</td>\n",
       "      <td>6.730821</td>\n",
       "      <td>3.09</td>\n",
       "      <td>40173.072174</td>\n",
       "      <td>1.505891e+06</td>\n",
       "      <td>188 Johnson Views Suite 079\\nLake Kathleen, CA...</td>\n",
       "    </tr>\n",
       "    <tr>\n",
       "      <th>2</th>\n",
       "      <td>61287.067179</td>\n",
       "      <td>5.865890</td>\n",
       "      <td>8.512727</td>\n",
       "      <td>5.13</td>\n",
       "      <td>36882.159400</td>\n",
       "      <td>1.058988e+06</td>\n",
       "      <td>9127 Elizabeth Stravenue\\nDanieltown, WI 06482...</td>\n",
       "    </tr>\n",
       "    <tr>\n",
       "      <th>3</th>\n",
       "      <td>63345.240046</td>\n",
       "      <td>7.188236</td>\n",
       "      <td>5.586729</td>\n",
       "      <td>3.26</td>\n",
       "      <td>34310.242831</td>\n",
       "      <td>1.260617e+06</td>\n",
       "      <td>USS Barnett\\nFPO AP 44820</td>\n",
       "    </tr>\n",
       "    <tr>\n",
       "      <th>4</th>\n",
       "      <td>59982.197226</td>\n",
       "      <td>5.040555</td>\n",
       "      <td>7.839388</td>\n",
       "      <td>4.23</td>\n",
       "      <td>26354.109472</td>\n",
       "      <td>6.309435e+05</td>\n",
       "      <td>USNS Raymond\\nFPO AE 09386</td>\n",
       "    </tr>\n",
       "  </tbody>\n",
       "</table>\n",
       "</div>"
      ],
      "text/plain": [
       "   Avg. Area Income  Avg. Area House Age  Avg. Area Number of Rooms  \\\n",
       "0      79545.458574             5.682861                   7.009188   \n",
       "1      79248.642455             6.002900                   6.730821   \n",
       "2      61287.067179             5.865890                   8.512727   \n",
       "3      63345.240046             7.188236                   5.586729   \n",
       "4      59982.197226             5.040555                   7.839388   \n",
       "\n",
       "   Avg. Area Number of Bedrooms  Area Population         Price  \\\n",
       "0                          4.09     23086.800503  1.059034e+06   \n",
       "1                          3.09     40173.072174  1.505891e+06   \n",
       "2                          5.13     36882.159400  1.058988e+06   \n",
       "3                          3.26     34310.242831  1.260617e+06   \n",
       "4                          4.23     26354.109472  6.309435e+05   \n",
       "\n",
       "                                             Address  \n",
       "0  208 Michael Ferry Apt. 674\\nLaurabury, NE 3701...  \n",
       "1  188 Johnson Views Suite 079\\nLake Kathleen, CA...  \n",
       "2  9127 Elizabeth Stravenue\\nDanieltown, WI 06482...  \n",
       "3                          USS Barnett\\nFPO AP 44820  \n",
       "4                         USNS Raymond\\nFPO AE 09386  "
      ]
     },
     "execution_count": 11,
     "metadata": {},
     "output_type": "execute_result"
    }
   ],
   "source": [
    "housing.head()"
   ]
  },
  {
   "cell_type": "code",
   "execution_count": 12,
   "metadata": {},
   "outputs": [
    {
     "name": "stdout",
     "output_type": "stream",
     "text": [
      "<class 'pandas.core.frame.DataFrame'>\n",
      "RangeIndex: 5000 entries, 0 to 4999\n",
      "Data columns (total 7 columns):\n",
      "Avg. Area Income                5000 non-null float64\n",
      "Avg. Area House Age             5000 non-null float64\n",
      "Avg. Area Number of Rooms       5000 non-null float64\n",
      "Avg. Area Number of Bedrooms    5000 non-null float64\n",
      "Area Population                 5000 non-null float64\n",
      "Price                           5000 non-null float64\n",
      "Address                         5000 non-null object\n",
      "dtypes: float64(6), object(1)\n",
      "memory usage: 273.5+ KB\n"
     ]
    }
   ],
   "source": [
    "housing.info()"
   ]
  },
  {
   "cell_type": "code",
   "execution_count": 13,
   "metadata": {},
   "outputs": [
    {
     "data": {
      "text/html": [
       "<div>\n",
       "<style scoped>\n",
       "    .dataframe tbody tr th:only-of-type {\n",
       "        vertical-align: middle;\n",
       "    }\n",
       "\n",
       "    .dataframe tbody tr th {\n",
       "        vertical-align: top;\n",
       "    }\n",
       "\n",
       "    .dataframe thead th {\n",
       "        text-align: right;\n",
       "    }\n",
       "</style>\n",
       "<table border=\"1\" class=\"dataframe\">\n",
       "  <thead>\n",
       "    <tr style=\"text-align: right;\">\n",
       "      <th></th>\n",
       "      <th>Avg. Area Income</th>\n",
       "      <th>Avg. Area House Age</th>\n",
       "      <th>Avg. Area Number of Rooms</th>\n",
       "      <th>Avg. Area Number of Bedrooms</th>\n",
       "      <th>Area Population</th>\n",
       "      <th>Price</th>\n",
       "    </tr>\n",
       "  </thead>\n",
       "  <tbody>\n",
       "    <tr>\n",
       "      <th>count</th>\n",
       "      <td>5000.000000</td>\n",
       "      <td>5000.000000</td>\n",
       "      <td>5000.000000</td>\n",
       "      <td>5000.000000</td>\n",
       "      <td>5000.000000</td>\n",
       "      <td>5.000000e+03</td>\n",
       "    </tr>\n",
       "    <tr>\n",
       "      <th>mean</th>\n",
       "      <td>68583.108984</td>\n",
       "      <td>5.977222</td>\n",
       "      <td>6.987792</td>\n",
       "      <td>3.981330</td>\n",
       "      <td>36163.516039</td>\n",
       "      <td>1.232073e+06</td>\n",
       "    </tr>\n",
       "    <tr>\n",
       "      <th>std</th>\n",
       "      <td>10657.991214</td>\n",
       "      <td>0.991456</td>\n",
       "      <td>1.005833</td>\n",
       "      <td>1.234137</td>\n",
       "      <td>9925.650114</td>\n",
       "      <td>3.531176e+05</td>\n",
       "    </tr>\n",
       "    <tr>\n",
       "      <th>min</th>\n",
       "      <td>17796.631190</td>\n",
       "      <td>2.644304</td>\n",
       "      <td>3.236194</td>\n",
       "      <td>2.000000</td>\n",
       "      <td>172.610686</td>\n",
       "      <td>1.593866e+04</td>\n",
       "    </tr>\n",
       "    <tr>\n",
       "      <th>25%</th>\n",
       "      <td>61480.562388</td>\n",
       "      <td>5.322283</td>\n",
       "      <td>6.299250</td>\n",
       "      <td>3.140000</td>\n",
       "      <td>29403.928702</td>\n",
       "      <td>9.975771e+05</td>\n",
       "    </tr>\n",
       "    <tr>\n",
       "      <th>50%</th>\n",
       "      <td>68804.286404</td>\n",
       "      <td>5.970429</td>\n",
       "      <td>7.002902</td>\n",
       "      <td>4.050000</td>\n",
       "      <td>36199.406689</td>\n",
       "      <td>1.232669e+06</td>\n",
       "    </tr>\n",
       "    <tr>\n",
       "      <th>75%</th>\n",
       "      <td>75783.338666</td>\n",
       "      <td>6.650808</td>\n",
       "      <td>7.665871</td>\n",
       "      <td>4.490000</td>\n",
       "      <td>42861.290769</td>\n",
       "      <td>1.471210e+06</td>\n",
       "    </tr>\n",
       "    <tr>\n",
       "      <th>max</th>\n",
       "      <td>107701.748378</td>\n",
       "      <td>9.519088</td>\n",
       "      <td>10.759588</td>\n",
       "      <td>6.500000</td>\n",
       "      <td>69621.713378</td>\n",
       "      <td>2.469066e+06</td>\n",
       "    </tr>\n",
       "  </tbody>\n",
       "</table>\n",
       "</div>"
      ],
      "text/plain": [
       "       Avg. Area Income  Avg. Area House Age  Avg. Area Number of Rooms  \\\n",
       "count       5000.000000          5000.000000                5000.000000   \n",
       "mean       68583.108984             5.977222                   6.987792   \n",
       "std        10657.991214             0.991456                   1.005833   \n",
       "min        17796.631190             2.644304                   3.236194   \n",
       "25%        61480.562388             5.322283                   6.299250   \n",
       "50%        68804.286404             5.970429                   7.002902   \n",
       "75%        75783.338666             6.650808                   7.665871   \n",
       "max       107701.748378             9.519088                  10.759588   \n",
       "\n",
       "       Avg. Area Number of Bedrooms  Area Population         Price  \n",
       "count                   5000.000000      5000.000000  5.000000e+03  \n",
       "mean                       3.981330     36163.516039  1.232073e+06  \n",
       "std                        1.234137      9925.650114  3.531176e+05  \n",
       "min                        2.000000       172.610686  1.593866e+04  \n",
       "25%                        3.140000     29403.928702  9.975771e+05  \n",
       "50%                        4.050000     36199.406689  1.232669e+06  \n",
       "75%                        4.490000     42861.290769  1.471210e+06  \n",
       "max                        6.500000     69621.713378  2.469066e+06  "
      ]
     },
     "execution_count": 13,
     "metadata": {},
     "output_type": "execute_result"
    }
   ],
   "source": [
    "housing.describe()"
   ]
  },
  {
   "cell_type": "code",
   "execution_count": 14,
   "metadata": {},
   "outputs": [
    {
     "data": {
      "text/html": [
       "<div>\n",
       "<style scoped>\n",
       "    .dataframe tbody tr th:only-of-type {\n",
       "        vertical-align: middle;\n",
       "    }\n",
       "\n",
       "    .dataframe tbody tr th {\n",
       "        vertical-align: top;\n",
       "    }\n",
       "\n",
       "    .dataframe thead th {\n",
       "        text-align: right;\n",
       "    }\n",
       "</style>\n",
       "<table border=\"1\" class=\"dataframe\">\n",
       "  <thead>\n",
       "    <tr style=\"text-align: right;\">\n",
       "      <th></th>\n",
       "      <th>Avg. Area Income</th>\n",
       "      <th>Avg. Area House Age</th>\n",
       "      <th>Avg. Area Number of Rooms</th>\n",
       "      <th>Avg. Area Number of Bedrooms</th>\n",
       "      <th>Area Population</th>\n",
       "      <th>Price</th>\n",
       "    </tr>\n",
       "  </thead>\n",
       "  <tbody>\n",
       "    <tr>\n",
       "      <th>Avg. Area Income</th>\n",
       "      <td>1.000000</td>\n",
       "      <td>-0.002007</td>\n",
       "      <td>-0.011032</td>\n",
       "      <td>0.019788</td>\n",
       "      <td>-0.016234</td>\n",
       "      <td>0.639734</td>\n",
       "    </tr>\n",
       "    <tr>\n",
       "      <th>Avg. Area House Age</th>\n",
       "      <td>-0.002007</td>\n",
       "      <td>1.000000</td>\n",
       "      <td>-0.009428</td>\n",
       "      <td>0.006149</td>\n",
       "      <td>-0.018743</td>\n",
       "      <td>0.452543</td>\n",
       "    </tr>\n",
       "    <tr>\n",
       "      <th>Avg. Area Number of Rooms</th>\n",
       "      <td>-0.011032</td>\n",
       "      <td>-0.009428</td>\n",
       "      <td>1.000000</td>\n",
       "      <td>0.462695</td>\n",
       "      <td>0.002040</td>\n",
       "      <td>0.335664</td>\n",
       "    </tr>\n",
       "    <tr>\n",
       "      <th>Avg. Area Number of Bedrooms</th>\n",
       "      <td>0.019788</td>\n",
       "      <td>0.006149</td>\n",
       "      <td>0.462695</td>\n",
       "      <td>1.000000</td>\n",
       "      <td>-0.022168</td>\n",
       "      <td>0.171071</td>\n",
       "    </tr>\n",
       "    <tr>\n",
       "      <th>Area Population</th>\n",
       "      <td>-0.016234</td>\n",
       "      <td>-0.018743</td>\n",
       "      <td>0.002040</td>\n",
       "      <td>-0.022168</td>\n",
       "      <td>1.000000</td>\n",
       "      <td>0.408556</td>\n",
       "    </tr>\n",
       "    <tr>\n",
       "      <th>Price</th>\n",
       "      <td>0.639734</td>\n",
       "      <td>0.452543</td>\n",
       "      <td>0.335664</td>\n",
       "      <td>0.171071</td>\n",
       "      <td>0.408556</td>\n",
       "      <td>1.000000</td>\n",
       "    </tr>\n",
       "  </tbody>\n",
       "</table>\n",
       "</div>"
      ],
      "text/plain": [
       "                              Avg. Area Income  Avg. Area House Age  \\\n",
       "Avg. Area Income                      1.000000            -0.002007   \n",
       "Avg. Area House Age                  -0.002007             1.000000   \n",
       "Avg. Area Number of Rooms            -0.011032            -0.009428   \n",
       "Avg. Area Number of Bedrooms          0.019788             0.006149   \n",
       "Area Population                      -0.016234            -0.018743   \n",
       "Price                                 0.639734             0.452543   \n",
       "\n",
       "                              Avg. Area Number of Rooms  \\\n",
       "Avg. Area Income                              -0.011032   \n",
       "Avg. Area House Age                           -0.009428   \n",
       "Avg. Area Number of Rooms                      1.000000   \n",
       "Avg. Area Number of Bedrooms                   0.462695   \n",
       "Area Population                                0.002040   \n",
       "Price                                          0.335664   \n",
       "\n",
       "                              Avg. Area Number of Bedrooms  Area Population  \\\n",
       "Avg. Area Income                                  0.019788        -0.016234   \n",
       "Avg. Area House Age                               0.006149        -0.018743   \n",
       "Avg. Area Number of Rooms                         0.462695         0.002040   \n",
       "Avg. Area Number of Bedrooms                      1.000000        -0.022168   \n",
       "Area Population                                  -0.022168         1.000000   \n",
       "Price                                             0.171071         0.408556   \n",
       "\n",
       "                                 Price  \n",
       "Avg. Area Income              0.639734  \n",
       "Avg. Area House Age           0.452543  \n",
       "Avg. Area Number of Rooms     0.335664  \n",
       "Avg. Area Number of Bedrooms  0.171071  \n",
       "Area Population               0.408556  \n",
       "Price                         1.000000  "
      ]
     },
     "execution_count": 14,
     "metadata": {},
     "output_type": "execute_result"
    }
   ],
   "source": [
    "housing.corr()"
   ]
  },
  {
   "cell_type": "code",
   "execution_count": 15,
   "metadata": {},
   "outputs": [
    {
     "data": {
      "text/plain": [
       "<matplotlib.axes._subplots.AxesSubplot at 0x1e825a72ba8>"
      ]
     },
     "execution_count": 15,
     "metadata": {},
     "output_type": "execute_result"
    },
    {
     "data": {
      "image/png": "[encoded data removed]",
      "text/plain": [
       "<Figure size 432x288 with 1 Axes>"
      ]
     },
     "metadata": {
      "needs_background": "light"
     },
     "output_type": "display_data"
    }
   ],
   "source": [
    "sns.distplot(housing['Price'], bins=50)"
   ]
  },
  {
   "cell_type": "code",
   "execution_count": 17,
   "metadata": {},
   "outputs": [
    {
     "data": {
      "text/plain": [
       "Index(['Avg. Area Income', 'Avg. Area House Age', 'Avg. Area Number of Rooms',\n",
       "       'Avg. Area Number of Bedrooms', 'Area Population', 'Price', 'Address'],\n",
       "      dtype='object')"
      ]
     },
     "execution_count": 17,
     "metadata": {},
     "output_type": "execute_result"
    }
   ],
   "source": [
    "housing.columns"
   ]
  },
  {
   "cell_type": "code",
   "execution_count": 18,
   "metadata": {},
   "outputs": [],
   "source": [
    "x=housing[['Avg. Area Income', 'Avg. Area House Age', 'Avg. Area Number of Rooms','Avg. Area Number of Bedrooms', 'Area Population']]"
   ]
  },
  {
   "cell_type": "code",
   "execution_count": 19,
   "metadata": {},
   "outputs": [],
   "source": [
    "y=housing['Price']"
   ]
  },
  {
   "cell_type": "code",
   "execution_count": 23,
   "metadata": {},
   "outputs": [],
   "source": [
    "#for this I will give it to you\n",
    "from sklearn.model_selection import train_test_split"
   ]
  },
  {
   "cell_type": "code",
   "execution_count": 25,
   "metadata": {},
   "outputs": [],
   "source": [
    "#but You need to know how to use the function\n",
    "x_train, x_test, y_train, y_test = train_test_split(x,y, test_size=0.25, random_state =42)"
   ]
  },
  {
   "cell_type": "code",
   "execution_count": 26,
   "metadata": {},
   "outputs": [],
   "source": [
    "from sklearn.linear_model import LinearRegression\n",
    "linearReg=LinearRegression()"
   ]
  },
  {
   "cell_type": "code",
   "execution_count": 27,
   "metadata": {},
   "outputs": [
    {
     "data": {
      "text/plain": [
       "LinearRegression(copy_X=True, fit_intercept=True, n_jobs=None, normalize=False)"
      ]
     },
     "execution_count": 27,
     "metadata": {},
     "output_type": "execute_result"
    }
   ],
   "source": [
    "#we train the model\n",
    "linearReg.fit(x_train, y_train)"
   ]
  },
  {
   "cell_type": "code",
   "execution_count": 28,
   "metadata": {},
   "outputs": [],
   "source": [
    "# we use the predict function to predict values\n",
    "pred=linearReg.predict(x_test)"
   ]
  },
  {
   "cell_type": "code",
   "execution_count": 29,
   "metadata": {},
   "outputs": [
    {
     "data": {
      "text/plain": [
       "array([1308500.26571955, 1236863.17310208, 1244410.75078912, ...,\n",
       "       1261463.85964333, 1076336.42840218, 1258430.478666  ])"
      ]
     },
     "execution_count": 29,
     "metadata": {},
     "output_type": "execute_result"
    }
   ],
   "source": [
    "pred"
   ]
  },
  {
   "cell_type": "code",
   "execution_count": 30,
   "metadata": {},
   "outputs": [],
   "source": [
    "#create a scatter chart based on predection on the exact value"
   ]
  },
  {
   "cell_type": "code",
   "execution_count": 31,
   "metadata": {},
   "outputs": [
    {
     "data": {
      "text/plain": [
       "<matplotlib.collections.PathCollection at 0x1e82784f668>"
      ]
     },
     "execution_count": 31,
     "metadata": {},
     "output_type": "execute_result"
    },
    {
     "data": {
      "image/png": "[encoded data removed]",
      "text/plain": [
       "<Figure size 432x288 with 1 Axes>"
      ]
     },
     "metadata": {
      "needs_background": "light"
     },
     "output_type": "display_data"
    }
   ],
   "source": [
    "plt.scatter(y_test, pred)"
   ]
  },
  {
   "cell_type": "code",
   "execution_count": 32,
   "metadata": {},
   "outputs": [
    {
     "data": {
      "text/plain": [
       "<matplotlib.axes._subplots.AxesSubplot at 0x1e82788f390>"
      ]
     },
     "execution_count": 32,
     "metadata": {},
     "output_type": "execute_result"
    },
    {
     "data": {
      "image/png": "[encoded data removed]",
      "text/plain": [
       "<Figure size 432x288 with 1 Axes>"
      ]
     },
     "metadata": {
      "needs_background": "light"
     },
     "output_type": "display_data"
    }
   ],
   "source": [
    "df=pd.DataFrame({'Actual': y_test, 'Predict': pred})\n",
    "df.head(20).plot.bar() #dataframe with column:values"
   ]
  },
  {
   "cell_type": "code",
   "execution_count": 33,
   "metadata": {},
   "outputs": [
    {
     "data": {
      "text/plain": [
       "array([1131411.26330386])"
      ]
     },
     "execution_count": 33,
     "metadata": {},
     "output_type": "execute_result"
    }
   ],
   "source": [
    "#predict one case\n",
    "linearReg.predict([x_test.iloc[25]])"
   ]
  },
  {
   "cell_type": "code",
   "execution_count": 34,
   "metadata": {},
   "outputs": [
    {
     "data": {
      "text/plain": [
       "1158742.8299392913"
      ]
     },
     "execution_count": 34,
     "metadata": {},
     "output_type": "execute_result"
    }
   ],
   "source": [
    "y_test.iloc[25]"
   ]
  },
  {
   "cell_type": "code",
   "execution_count": 35,
   "metadata": {},
   "outputs": [
    {
     "data": {
      "text/plain": [
       "80859.62543688527"
      ]
     },
     "execution_count": 35,
     "metadata": {},
     "output_type": "execute_result"
    }
   ],
   "source": [
    "#in the linear regression, you need to know how to calculate Mean_absolute_error\n",
    "#I will give the model and function to you and you need to know how to use it\n",
    "\n",
    "from sklearn import metrics\n",
    "metrics.mean_absolute_error(y_test, pred)"
   ]
  },
  {
   "cell_type": "code",
   "execution_count": 36,
   "metadata": {},
   "outputs": [],
   "source": [
    "nba= pd.read_excel('NBA_Players_2017.xlsx', index_col=0)"
   ]
  },
  {
   "cell_type": "code",
   "execution_count": 38,
   "metadata": {},
   "outputs": [
    {
     "data": {
      "text/html": [
       "<div>\n",
       "<style scoped>\n",
       "    .dataframe tbody tr th:only-of-type {\n",
       "        vertical-align: middle;\n",
       "    }\n",
       "\n",
       "    .dataframe tbody tr th {\n",
       "        vertical-align: top;\n",
       "    }\n",
       "\n",
       "    .dataframe thead th {\n",
       "        text-align: right;\n",
       "    }\n",
       "</style>\n",
       "<table border=\"1\" class=\"dataframe\">\n",
       "  <thead>\n",
       "    <tr style=\"text-align: right;\">\n",
       "      <th></th>\n",
       "      <th>Year</th>\n",
       "      <th>Player</th>\n",
       "      <th>Pos</th>\n",
       "      <th>Age</th>\n",
       "      <th>Tm</th>\n",
       "      <th>G</th>\n",
       "      <th>GS</th>\n",
       "      <th>MP</th>\n",
       "      <th>PER</th>\n",
       "      <th>TS%</th>\n",
       "      <th>...</th>\n",
       "      <th>AST</th>\n",
       "      <th>STL</th>\n",
       "      <th>BLK</th>\n",
       "      <th>TOV</th>\n",
       "      <th>PF</th>\n",
       "      <th>PTS</th>\n",
       "      <th>PPG</th>\n",
       "      <th>RPG</th>\n",
       "      <th>APG</th>\n",
       "      <th>BPG</th>\n",
       "    </tr>\n",
       "    <tr>\n",
       "      <th>Column1</th>\n",
       "      <th></th>\n",
       "      <th></th>\n",
       "      <th></th>\n",
       "      <th></th>\n",
       "      <th></th>\n",
       "      <th></th>\n",
       "      <th></th>\n",
       "      <th></th>\n",
       "      <th></th>\n",
       "      <th></th>\n",
       "      <th></th>\n",
       "      <th></th>\n",
       "      <th></th>\n",
       "      <th></th>\n",
       "      <th></th>\n",
       "      <th></th>\n",
       "      <th></th>\n",
       "      <th></th>\n",
       "      <th></th>\n",
       "      <th></th>\n",
       "      <th></th>\n",
       "    </tr>\n",
       "  </thead>\n",
       "  <tbody>\n",
       "    <tr>\n",
       "      <th>24096</th>\n",
       "      <td>2017</td>\n",
       "      <td>Alex Abrines</td>\n",
       "      <td>SG</td>\n",
       "      <td>23</td>\n",
       "      <td>OKC</td>\n",
       "      <td>68</td>\n",
       "      <td>6</td>\n",
       "      <td>1055</td>\n",
       "      <td>10.1</td>\n",
       "      <td>0.560</td>\n",
       "      <td>...</td>\n",
       "      <td>40</td>\n",
       "      <td>37</td>\n",
       "      <td>8</td>\n",
       "      <td>33</td>\n",
       "      <td>114</td>\n",
       "      <td>406</td>\n",
       "      <td>5.970588</td>\n",
       "      <td>1.264706</td>\n",
       "      <td>0.588235</td>\n",
       "      <td>0.117647</td>\n",
       "    </tr>\n",
       "    <tr>\n",
       "      <th>24097</th>\n",
       "      <td>2017</td>\n",
       "      <td>Quincy Acy</td>\n",
       "      <td>PF</td>\n",
       "      <td>26</td>\n",
       "      <td>TOT</td>\n",
       "      <td>38</td>\n",
       "      <td>1</td>\n",
       "      <td>558</td>\n",
       "      <td>11.8</td>\n",
       "      <td>0.565</td>\n",
       "      <td>...</td>\n",
       "      <td>18</td>\n",
       "      <td>14</td>\n",
       "      <td>15</td>\n",
       "      <td>21</td>\n",
       "      <td>67</td>\n",
       "      <td>222</td>\n",
       "      <td>5.842105</td>\n",
       "      <td>3.026316</td>\n",
       "      <td>0.473684</td>\n",
       "      <td>0.394737</td>\n",
       "    </tr>\n",
       "    <tr>\n",
       "      <th>24098</th>\n",
       "      <td>2017</td>\n",
       "      <td>Quincy Acy</td>\n",
       "      <td>PF</td>\n",
       "      <td>26</td>\n",
       "      <td>DAL</td>\n",
       "      <td>6</td>\n",
       "      <td>0</td>\n",
       "      <td>48</td>\n",
       "      <td>-1.4</td>\n",
       "      <td>0.355</td>\n",
       "      <td>...</td>\n",
       "      <td>0</td>\n",
       "      <td>0</td>\n",
       "      <td>0</td>\n",
       "      <td>2</td>\n",
       "      <td>9</td>\n",
       "      <td>13</td>\n",
       "      <td>2.166667</td>\n",
       "      <td>1.333333</td>\n",
       "      <td>0.000000</td>\n",
       "      <td>0.000000</td>\n",
       "    </tr>\n",
       "    <tr>\n",
       "      <th>24099</th>\n",
       "      <td>2017</td>\n",
       "      <td>Quincy Acy</td>\n",
       "      <td>PF</td>\n",
       "      <td>26</td>\n",
       "      <td>BRK</td>\n",
       "      <td>32</td>\n",
       "      <td>1</td>\n",
       "      <td>510</td>\n",
       "      <td>13.1</td>\n",
       "      <td>0.587</td>\n",
       "      <td>...</td>\n",
       "      <td>18</td>\n",
       "      <td>14</td>\n",
       "      <td>15</td>\n",
       "      <td>19</td>\n",
       "      <td>58</td>\n",
       "      <td>209</td>\n",
       "      <td>6.531250</td>\n",
       "      <td>3.343750</td>\n",
       "      <td>0.562500</td>\n",
       "      <td>0.468750</td>\n",
       "    </tr>\n",
       "    <tr>\n",
       "      <th>24100</th>\n",
       "      <td>2017</td>\n",
       "      <td>Steven Adams</td>\n",
       "      <td>C</td>\n",
       "      <td>23</td>\n",
       "      <td>OKC</td>\n",
       "      <td>80</td>\n",
       "      <td>80</td>\n",
       "      <td>2389</td>\n",
       "      <td>16.5</td>\n",
       "      <td>0.589</td>\n",
       "      <td>...</td>\n",
       "      <td>86</td>\n",
       "      <td>88</td>\n",
       "      <td>78</td>\n",
       "      <td>146</td>\n",
       "      <td>195</td>\n",
       "      <td>905</td>\n",
       "      <td>11.312500</td>\n",
       "      <td>7.687500</td>\n",
       "      <td>1.075000</td>\n",
       "      <td>0.975000</td>\n",
       "    </tr>\n",
       "  </tbody>\n",
       "</table>\n",
       "<p>5 rows × 56 columns</p>\n",
       "</div>"
      ],
      "text/plain": [
       "         Year        Player Pos  Age   Tm   G  GS    MP   PER    TS%  ...  \\\n",
       "Column1                                                               ...   \n",
       "24096    2017  Alex Abrines  SG   23  OKC  68   6  1055  10.1  0.560  ...   \n",
       "24097    2017    Quincy Acy  PF   26  TOT  38   1   558  11.8  0.565  ...   \n",
       "24098    2017    Quincy Acy  PF   26  DAL   6   0    48  -1.4  0.355  ...   \n",
       "24099    2017    Quincy Acy  PF   26  BRK  32   1   510  13.1  0.587  ...   \n",
       "24100    2017  Steven Adams   C   23  OKC  80  80  2389  16.5  0.589  ...   \n",
       "\n",
       "         AST  STL  BLK  TOV   PF  PTS        PPG       RPG       APG       BPG  \n",
       "Column1                                                                         \n",
       "24096     40   37    8   33  114  406   5.970588  1.264706  0.588235  0.117647  \n",
       "24097     18   14   15   21   67  222   5.842105  3.026316  0.473684  0.394737  \n",
       "24098      0    0    0    2    9   13   2.166667  1.333333  0.000000  0.000000  \n",
       "24099     18   14   15   19   58  209   6.531250  3.343750  0.562500  0.468750  \n",
       "24100     86   88   78  146  195  905  11.312500  7.687500  1.075000  0.975000  \n",
       "\n",
       "[5 rows x 56 columns]"
      ]
     },
     "execution_count": 38,
     "metadata": {},
     "output_type": "execute_result"
    }
   ],
   "source": [
    "nba.head()"
   ]
  },
  {
   "cell_type": "code",
   "execution_count": 47,
   "metadata": {},
   "outputs": [
    {
     "data": {
      "text/html": [
       "<div>\n",
       "<style scoped>\n",
       "    .dataframe tbody tr th:only-of-type {\n",
       "        vertical-align: middle;\n",
       "    }\n",
       "\n",
       "    .dataframe tbody tr th {\n",
       "        vertical-align: top;\n",
       "    }\n",
       "\n",
       "    .dataframe thead th {\n",
       "        text-align: right;\n",
       "    }\n",
       "</style>\n",
       "<table border=\"1\" class=\"dataframe\">\n",
       "  <thead>\n",
       "    <tr style=\"text-align: right;\">\n",
       "      <th></th>\n",
       "      <th>Year</th>\n",
       "      <th>Player</th>\n",
       "      <th>Pos</th>\n",
       "      <th>Age</th>\n",
       "      <th>Tm</th>\n",
       "      <th>G</th>\n",
       "      <th>GS</th>\n",
       "      <th>MP</th>\n",
       "      <th>PER</th>\n",
       "      <th>TS%</th>\n",
       "      <th>...</th>\n",
       "      <th>AST</th>\n",
       "      <th>STL</th>\n",
       "      <th>BLK</th>\n",
       "      <th>TOV</th>\n",
       "      <th>PF</th>\n",
       "      <th>PTS</th>\n",
       "      <th>PPG</th>\n",
       "      <th>RPG</th>\n",
       "      <th>APG</th>\n",
       "      <th>BPG</th>\n",
       "    </tr>\n",
       "    <tr>\n",
       "      <th>Column1</th>\n",
       "      <th></th>\n",
       "      <th></th>\n",
       "      <th></th>\n",
       "      <th></th>\n",
       "      <th></th>\n",
       "      <th></th>\n",
       "      <th></th>\n",
       "      <th></th>\n",
       "      <th></th>\n",
       "      <th></th>\n",
       "      <th></th>\n",
       "      <th></th>\n",
       "      <th></th>\n",
       "      <th></th>\n",
       "      <th></th>\n",
       "      <th></th>\n",
       "      <th></th>\n",
       "      <th></th>\n",
       "      <th></th>\n",
       "      <th></th>\n",
       "      <th></th>\n",
       "    </tr>\n",
       "  </thead>\n",
       "  <tbody>\n",
       "    <tr>\n",
       "      <th>24100</th>\n",
       "      <td>2017</td>\n",
       "      <td>Steven Adams</td>\n",
       "      <td>C</td>\n",
       "      <td>23</td>\n",
       "      <td>OKC</td>\n",
       "      <td>80</td>\n",
       "      <td>80</td>\n",
       "      <td>2389</td>\n",
       "      <td>16.5</td>\n",
       "      <td>0.589</td>\n",
       "      <td>...</td>\n",
       "      <td>86</td>\n",
       "      <td>88</td>\n",
       "      <td>78</td>\n",
       "      <td>146</td>\n",
       "      <td>195</td>\n",
       "      <td>905</td>\n",
       "      <td>11.312500</td>\n",
       "      <td>7.687500</td>\n",
       "      <td>1.075000</td>\n",
       "      <td>0.975000</td>\n",
       "    </tr>\n",
       "    <tr>\n",
       "      <th>24102</th>\n",
       "      <td>2017</td>\n",
       "      <td>Alexis Ajinca</td>\n",
       "      <td>C</td>\n",
       "      <td>28</td>\n",
       "      <td>NOP</td>\n",
       "      <td>39</td>\n",
       "      <td>15</td>\n",
       "      <td>584</td>\n",
       "      <td>12.9</td>\n",
       "      <td>0.529</td>\n",
       "      <td>...</td>\n",
       "      <td>12</td>\n",
       "      <td>20</td>\n",
       "      <td>22</td>\n",
       "      <td>31</td>\n",
       "      <td>77</td>\n",
       "      <td>207</td>\n",
       "      <td>5.307692</td>\n",
       "      <td>4.538462</td>\n",
       "      <td>0.307692</td>\n",
       "      <td>0.564103</td>\n",
       "    </tr>\n",
       "    <tr>\n",
       "      <th>24103</th>\n",
       "      <td>2017</td>\n",
       "      <td>Cole Aldrich</td>\n",
       "      <td>C</td>\n",
       "      <td>28</td>\n",
       "      <td>MIN</td>\n",
       "      <td>62</td>\n",
       "      <td>0</td>\n",
       "      <td>531</td>\n",
       "      <td>12.7</td>\n",
       "      <td>0.549</td>\n",
       "      <td>...</td>\n",
       "      <td>25</td>\n",
       "      <td>25</td>\n",
       "      <td>23</td>\n",
       "      <td>17</td>\n",
       "      <td>85</td>\n",
       "      <td>105</td>\n",
       "      <td>1.693548</td>\n",
       "      <td>2.548387</td>\n",
       "      <td>0.403226</td>\n",
       "      <td>0.370968</td>\n",
       "    </tr>\n",
       "    <tr>\n",
       "      <th>24108</th>\n",
       "      <td>2017</td>\n",
       "      <td>Chris Andersen</td>\n",
       "      <td>C</td>\n",
       "      <td>38</td>\n",
       "      <td>CLE</td>\n",
       "      <td>12</td>\n",
       "      <td>0</td>\n",
       "      <td>114</td>\n",
       "      <td>11.6</td>\n",
       "      <td>0.497</td>\n",
       "      <td>...</td>\n",
       "      <td>5</td>\n",
       "      <td>5</td>\n",
       "      <td>7</td>\n",
       "      <td>5</td>\n",
       "      <td>20</td>\n",
       "      <td>28</td>\n",
       "      <td>2.333333</td>\n",
       "      <td>2.583333</td>\n",
       "      <td>0.416667</td>\n",
       "      <td>0.583333</td>\n",
       "    </tr>\n",
       "    <tr>\n",
       "      <th>24117</th>\n",
       "      <td>2017</td>\n",
       "      <td>Joel Anthony</td>\n",
       "      <td>C</td>\n",
       "      <td>34</td>\n",
       "      <td>SAS</td>\n",
       "      <td>19</td>\n",
       "      <td>0</td>\n",
       "      <td>122</td>\n",
       "      <td>11.6</td>\n",
       "      <td>0.640</td>\n",
       "      <td>...</td>\n",
       "      <td>3</td>\n",
       "      <td>2</td>\n",
       "      <td>6</td>\n",
       "      <td>4</td>\n",
       "      <td>11</td>\n",
       "      <td>25</td>\n",
       "      <td>1.315789</td>\n",
       "      <td>1.631579</td>\n",
       "      <td>0.157895</td>\n",
       "      <td>0.315789</td>\n",
       "    </tr>\n",
       "  </tbody>\n",
       "</table>\n",
       "<p>5 rows × 56 columns</p>\n",
       "</div>"
      ],
      "text/plain": [
       "         Year          Player Pos  Age   Tm   G  GS    MP   PER    TS%  ...  \\\n",
       "Column1                                                                 ...   \n",
       "24100    2017    Steven Adams   C   23  OKC  80  80  2389  16.5  0.589  ...   \n",
       "24102    2017   Alexis Ajinca   C   28  NOP  39  15   584  12.9  0.529  ...   \n",
       "24103    2017    Cole Aldrich   C   28  MIN  62   0   531  12.7  0.549  ...   \n",
       "24108    2017  Chris Andersen   C   38  CLE  12   0   114  11.6  0.497  ...   \n",
       "24117    2017    Joel Anthony   C   34  SAS  19   0   122  11.6  0.640  ...   \n",
       "\n",
       "         AST  STL  BLK  TOV   PF  PTS        PPG       RPG       APG       BPG  \n",
       "Column1                                                                         \n",
       "24100     86   88   78  146  195  905  11.312500  7.687500  1.075000  0.975000  \n",
       "24102     12   20   22   31   77  207   5.307692  4.538462  0.307692  0.564103  \n",
       "24103     25   25   23   17   85  105   1.693548  2.548387  0.403226  0.370968  \n",
       "24108      5    5    7    5   20   28   2.333333  2.583333  0.416667  0.583333  \n",
       "24117      3    2    6    4   11   25   1.315789  1.631579  0.157895  0.315789  \n",
       "\n",
       "[5 rows x 56 columns]"
      ]
     },
     "execution_count": 47,
     "metadata": {},
     "output_type": "execute_result"
    }
   ],
   "source": [
    "pg_c =nba[(nba['Pos']=='PG') | (nba['Pos']=='C')]\n",
    "pg_c.head()"
   ]
  },
  {
   "cell_type": "code",
   "execution_count": 48,
   "metadata": {},
   "outputs": [
    {
     "data": {
      "text/plain": [
       "Index(['Year', 'Player', 'Pos', 'Age', 'Tm', 'G', 'GS', 'MP', 'PER', 'TS%',\n",
       "       '3PAr', 'FTr', 'ORB%', 'DRB%', 'TRB%', 'AST%', 'STL%', 'BLK%', 'TOV%',\n",
       "       'USG%', 'blanl', 'OWS', 'DWS', 'WS', 'WS/48', 'blank2', 'OBPM', 'DBPM',\n",
       "       'BPM', 'VORP', 'FG', 'FGA', 'FG%', '3P', '3PA', '3P%', '2P', '2PA',\n",
       "       '2P%', 'eFG%', 'FT', 'FTA', 'FT%', 'ORB', 'DRB', 'TRB', 'AST', 'STL',\n",
       "       'BLK', 'TOV', 'PF', 'PTS', 'PPG', 'RPG', 'APG', 'BPG'],\n",
       "      dtype='object')"
      ]
     },
     "execution_count": 48,
     "metadata": {},
     "output_type": "execute_result"
    }
   ],
   "source": [
    "nba.columns"
   ]
  },
  {
   "cell_type": "code",
   "execution_count": 71,
   "metadata": {},
   "outputs": [
    {
     "data": {
      "text/html": [
       "<div>\n",
       "<style scoped>\n",
       "    .dataframe tbody tr th:only-of-type {\n",
       "        vertical-align: middle;\n",
       "    }\n",
       "\n",
       "    .dataframe tbody tr th {\n",
       "        vertical-align: top;\n",
       "    }\n",
       "\n",
       "    .dataframe thead th {\n",
       "        text-align: right;\n",
       "    }\n",
       "</style>\n",
       "<table border=\"1\" class=\"dataframe\">\n",
       "  <thead>\n",
       "    <tr style=\"text-align: right;\">\n",
       "      <th></th>\n",
       "      <th>Player</th>\n",
       "      <th>Pos</th>\n",
       "      <th>BPG</th>\n",
       "      <th>APG</th>\n",
       "    </tr>\n",
       "    <tr>\n",
       "      <th>Column1</th>\n",
       "      <th></th>\n",
       "      <th></th>\n",
       "      <th></th>\n",
       "      <th></th>\n",
       "    </tr>\n",
       "  </thead>\n",
       "  <tbody>\n",
       "    <tr>\n",
       "      <th>24100</th>\n",
       "      <td>Steven Adams</td>\n",
       "      <td>C</td>\n",
       "      <td>0.975000</td>\n",
       "      <td>1.075000</td>\n",
       "    </tr>\n",
       "    <tr>\n",
       "      <th>24102</th>\n",
       "      <td>Alexis Ajinca</td>\n",
       "      <td>C</td>\n",
       "      <td>0.564103</td>\n",
       "      <td>0.307692</td>\n",
       "    </tr>\n",
       "    <tr>\n",
       "      <th>24103</th>\n",
       "      <td>Cole Aldrich</td>\n",
       "      <td>C</td>\n",
       "      <td>0.370968</td>\n",
       "      <td>0.403226</td>\n",
       "    </tr>\n",
       "    <tr>\n",
       "      <th>24108</th>\n",
       "      <td>Chris Andersen</td>\n",
       "      <td>C</td>\n",
       "      <td>0.583333</td>\n",
       "      <td>0.416667</td>\n",
       "    </tr>\n",
       "    <tr>\n",
       "      <th>24117</th>\n",
       "      <td>Joel Anthony</td>\n",
       "      <td>C</td>\n",
       "      <td>0.315789</td>\n",
       "      <td>0.157895</td>\n",
       "    </tr>\n",
       "  </tbody>\n",
       "</table>\n",
       "</div>"
      ],
      "text/plain": [
       "                 Player Pos       BPG       APG\n",
       "Column1                                        \n",
       "24100      Steven Adams   C  0.975000  1.075000\n",
       "24102     Alexis Ajinca   C  0.564103  0.307692\n",
       "24103      Cole Aldrich   C  0.370968  0.403226\n",
       "24108    Chris Andersen   C  0.583333  0.416667\n",
       "24117      Joel Anthony   C  0.315789  0.157895"
      ]
     },
     "execution_count": 71,
     "metadata": {},
     "output_type": "execute_result"
    }
   ],
   "source": [
    "pg_c=pg_c[['Player', 'Pos','BPG', 'APG']]\n",
    "pg_c.head()"
   ]
  },
  {
   "cell_type": "code",
   "execution_count": 72,
   "metadata": {},
   "outputs": [],
   "source": [
    "c=pg_c[pg_c['Pos']=='C']\n",
    "pg=pg_c[pg_c['Pos']=='PG']"
   ]
  },
  {
   "cell_type": "code",
   "execution_count": 73,
   "metadata": {},
   "outputs": [
    {
     "data": {
      "text/plain": [
       "<matplotlib.legend.Legend at 0x1e827ecfbe0>"
      ]
     },
     "execution_count": 73,
     "metadata": {},
     "output_type": "execute_result"
    },
    {
     "data": {
      "image/png": "[encoded data removed]",
      "text/plain": [
       "<Figure size 432x288 with 1 Axes>"
      ]
     },
     "metadata": {
      "needs_background": "light"
     },
     "output_type": "display_data"
    }
   ],
   "source": [
    "sns.scatterplot(x=c['APG'], y=c['BPG'], color='b', s=100)\n",
    "sns.scatterplot(x=pg['APG'], y=pg['BPG'], color='r', s=100)\n",
    "plt.legend(['center', 'Point Guard'])"
   ]
  },
  {
   "cell_type": "code",
   "execution_count": 74,
   "metadata": {},
   "outputs": [],
   "source": [
    "#use K-Means\n",
    "from sklearn.cluster import KMeans\n",
    "kmeans =  KMeans(n_clusters=2, random_state=42)"
   ]
  },
  {
   "cell_type": "code",
   "execution_count": 75,
   "metadata": {},
   "outputs": [
    {
     "data": {
      "text/plain": [
       "KMeans(algorithm='auto', copy_x=True, init='k-means++', max_iter=300,\n",
       "       n_clusters=2, n_init=10, n_jobs=None, precompute_distances='auto',\n",
       "       random_state=42, tol=0.0001, verbose=0)"
      ]
     },
     "execution_count": 75,
     "metadata": {},
     "output_type": "execute_result"
    }
   ],
   "source": [
    "kmeans.fit(pg_c[['APG', 'BPG']])"
   ]
  },
  {
   "cell_type": "code",
   "execution_count": 76,
   "metadata": {},
   "outputs": [
    {
     "data": {
      "text/plain": [
       "array([[5.6164887 , 0.3483313 ],\n",
       "       [1.26811912, 0.539905  ]])"
      ]
     },
     "execution_count": 76,
     "metadata": {},
     "output_type": "execute_result"
    }
   ],
   "source": [
    "#display the cluster of the two group and the labales of the data points\n",
    "kmeans.cluster_centers_"
   ]
  },
  {
   "cell_type": "code",
   "execution_count": 77,
   "metadata": {},
   "outputs": [
    {
     "data": {
      "text/plain": [
       "array([1, 1, 1, 1, 1, 1, 1, 1, 0, 0, 1, 1, 1, 0, 1, 1, 1, 1, 1, 1, 1, 1,\n",
       "       1, 1, 1, 1, 1, 1, 1, 0, 0, 1, 1, 1, 0, 0, 0, 1, 0, 1, 1, 1, 1, 0,\n",
       "       1, 1, 0, 1, 1, 1, 1, 1, 1, 1, 0, 1, 1, 1, 0, 1, 0, 0, 1, 1, 1, 1,\n",
       "       0, 1, 1, 1, 1, 1, 1, 1, 0, 1, 1, 1, 1, 1, 1, 1, 1, 1, 1, 0, 1, 0,\n",
       "       1, 0, 1, 1, 0, 1, 1, 1, 0, 1, 0, 0, 0, 1, 0, 1, 1, 1, 1, 1, 1, 1,\n",
       "       1, 0, 1, 0, 0, 1, 1, 1, 1, 1, 0, 1, 1, 1, 1, 1, 0, 1, 1, 0, 1, 1,\n",
       "       0, 1, 1, 1, 0, 1, 1, 1, 1, 1, 1, 1, 1, 1, 1, 1, 1, 1, 1, 1, 1, 1,\n",
       "       0, 0, 1, 1, 1, 0, 1, 1, 0, 0, 1, 1, 1, 1, 1, 1, 1, 1, 1, 1, 1, 1,\n",
       "       0, 0, 0, 1, 0, 0, 1, 0, 1, 0, 1, 1, 1, 1, 1, 1, 1, 1, 1, 1, 0, 0,\n",
       "       1, 1, 1, 1, 1, 0, 1, 1, 1, 1, 1, 0, 0, 1, 1, 1, 1, 1, 0, 1, 1, 1,\n",
       "       0, 0, 0, 1, 1, 1, 1, 1, 1])"
      ]
     },
     "execution_count": 77,
     "metadata": {},
     "output_type": "execute_result"
    }
   ],
   "source": [
    "kmeans.labels_"
   ]
  },
  {
   "cell_type": "code",
   "execution_count": 67,
   "metadata": {},
   "outputs": [],
   "source": [
    "pg_c['Label']=['C' if i ==0 else 'PG' for i in list(kmeans.labels_)]"
   ]
  },
  {
   "cell_type": "code",
   "execution_count": 68,
   "metadata": {},
   "outputs": [
    {
     "data": {
      "text/html": [
       "<div>\n",
       "<style scoped>\n",
       "    .dataframe tbody tr th:only-of-type {\n",
       "        vertical-align: middle;\n",
       "    }\n",
       "\n",
       "    .dataframe tbody tr th {\n",
       "        vertical-align: top;\n",
       "    }\n",
       "\n",
       "    .dataframe thead th {\n",
       "        text-align: right;\n",
       "    }\n",
       "</style>\n",
       "<table border=\"1\" class=\"dataframe\">\n",
       "  <thead>\n",
       "    <tr style=\"text-align: right;\">\n",
       "      <th></th>\n",
       "      <th>Player</th>\n",
       "      <th>Pos</th>\n",
       "      <th>BPG</th>\n",
       "      <th>APG</th>\n",
       "      <th>label</th>\n",
       "      <th>Label</th>\n",
       "    </tr>\n",
       "    <tr>\n",
       "      <th>Column1</th>\n",
       "      <th></th>\n",
       "      <th></th>\n",
       "      <th></th>\n",
       "      <th></th>\n",
       "      <th></th>\n",
       "      <th></th>\n",
       "    </tr>\n",
       "  </thead>\n",
       "  <tbody>\n",
       "    <tr>\n",
       "      <th>24100</th>\n",
       "      <td>Steven Adams</td>\n",
       "      <td>C</td>\n",
       "      <td>0.975000</td>\n",
       "      <td>1.075000</td>\n",
       "      <td>PG</td>\n",
       "      <td>PG</td>\n",
       "    </tr>\n",
       "    <tr>\n",
       "      <th>24102</th>\n",
       "      <td>Alexis Ajinca</td>\n",
       "      <td>C</td>\n",
       "      <td>0.564103</td>\n",
       "      <td>0.307692</td>\n",
       "      <td>PG</td>\n",
       "      <td>PG</td>\n",
       "    </tr>\n",
       "    <tr>\n",
       "      <th>24103</th>\n",
       "      <td>Cole Aldrich</td>\n",
       "      <td>C</td>\n",
       "      <td>0.370968</td>\n",
       "      <td>0.403226</td>\n",
       "      <td>PG</td>\n",
       "      <td>PG</td>\n",
       "    </tr>\n",
       "    <tr>\n",
       "      <th>24108</th>\n",
       "      <td>Chris Andersen</td>\n",
       "      <td>C</td>\n",
       "      <td>0.583333</td>\n",
       "      <td>0.416667</td>\n",
       "      <td>PG</td>\n",
       "      <td>PG</td>\n",
       "    </tr>\n",
       "    <tr>\n",
       "      <th>24117</th>\n",
       "      <td>Joel Anthony</td>\n",
       "      <td>C</td>\n",
       "      <td>0.315789</td>\n",
       "      <td>0.157895</td>\n",
       "      <td>PG</td>\n",
       "      <td>PG</td>\n",
       "    </tr>\n",
       "  </tbody>\n",
       "</table>\n",
       "</div>"
      ],
      "text/plain": [
       "                 Player Pos       BPG       APG label Label\n",
       "Column1                                                    \n",
       "24100      Steven Adams   C  0.975000  1.075000    PG    PG\n",
       "24102     Alexis Ajinca   C  0.564103  0.307692    PG    PG\n",
       "24103      Cole Aldrich   C  0.370968  0.403226    PG    PG\n",
       "24108    Chris Andersen   C  0.583333  0.416667    PG    PG\n",
       "24117      Joel Anthony   C  0.315789  0.157895    PG    PG"
      ]
     },
     "execution_count": 68,
     "metadata": {},
     "output_type": "execute_result"
    }
   ],
   "source": [
    "pg_c.head()"
   ]
  },
  {
   "cell_type": "code",
   "execution_count": 66,
   "metadata": {},
   "outputs": [],
   "source": [
    "#calculate the acuracy rate"
   ]
  },
  {
   "cell_type": "code",
   "execution_count": 70,
   "metadata": {},
   "outputs": [
    {
     "data": {
      "text/plain": [
       "0.33624454148471616"
      ]
     },
     "execution_count": 70,
     "metadata": {},
     "output_type": "execute_result"
    }
   ],
   "source": [
    "sum(pg_c['Label']==pg_c['Pos'])/len(pg_c)"
   ]
  },
  {
   "cell_type": "code",
   "execution_count": 78,
   "metadata": {},
   "outputs": [],
   "source": [
    "#remember that knn and logisticRegression Take array- like input"
   ]
  },
  {
   "cell_type": "code",
   "execution_count": 79,
   "metadata": {},
   "outputs": [],
   "source": [
    "data=pg_c[['APG','BPG']].values"
   ]
  },
  {
   "cell_type": "code",
   "execution_count": 80,
   "metadata": {},
   "outputs": [
    {
     "data": {
      "text/plain": [
       "array([[ 1.075     ,  0.975     ],\n",
       "       [ 0.30769231,  0.56410256],\n",
       "       [ 0.40322581,  0.37096774],\n",
       "       [ 0.41666667,  0.58333333],\n",
       "       [ 0.15789474,  0.31578947],\n",
       "       [ 0.48387097,  0.32258065],\n",
       "       [ 2.67948718,  0.01282051],\n",
       "       [ 1.84848485,  0.21212121],\n",
       "       [ 5.51428571,  0.02857143],\n",
       "       [ 4.33333333,  0.        ],\n",
       "       [ 0.42666667,  0.52      ],\n",
       "       [ 0.91358025,  1.12345679],\n",
       "       [ 0.58208955,  0.65671642],\n",
       "       [ 6.33333333,  0.46969697],\n",
       "       [ 1.81481481,  0.92592593],\n",
       "       [ 1.88461538,  0.96153846],\n",
       "       [ 0.        ,  0.        ],\n",
       "       [ 1.92307692,  0.13846154],\n",
       "       [ 0.56      ,  0.        ],\n",
       "       [ 1.75438596,  0.0877193 ],\n",
       "       [ 2.14634146,  0.02439024],\n",
       "       [ 2.125     ,  0.04166667],\n",
       "       [ 2.17647059,  0.        ],\n",
       "       [ 0.98461538,  1.23076923],\n",
       "       [ 2.51111111,  0.51111111],\n",
       "       [ 1.06666667,  0.6       ],\n",
       "       [ 0.63829787,  0.5106383 ],\n",
       "       [ 2.03125   ,  0.09375   ],\n",
       "       [ 1.07692308,  0.        ],\n",
       "       [ 4.58823529,  0.13235294],\n",
       "       [ 6.27536232,  0.27536232],\n",
       "       [ 1.85714286,  0.        ],\n",
       "       [ 2.4       ,  0.        ],\n",
       "       [ 1.55555556,  0.        ],\n",
       "       [ 4.61111111,  1.27777778],\n",
       "       [ 4.83636364,  1.32727273],\n",
       "       [ 3.88235294,  1.11764706],\n",
       "       [ 2.68571429,  0.1       ],\n",
       "       [ 6.62025316,  0.21518987],\n",
       "       [ 2.09333333,  2.22666667],\n",
       "       [ 0.05555556,  0.47222222],\n",
       "       [ 0.57894737,  0.80263158],\n",
       "       [ 2.64383562,  0.01369863],\n",
       "       [ 4.69736842,  0.        ],\n",
       "       [ 3.13559322,  0.38983051],\n",
       "       [ 2.33333333,  0.20833333],\n",
       "       [ 5.79452055,  0.17808219],\n",
       "       [ 1.09876543,  1.09876543],\n",
       "       [ 2.41025641,  0.46153846],\n",
       "       [ 2.12903226,  2.4516129 ],\n",
       "       [ 1.62264151,  0.03773585],\n",
       "       [ 1.09677419,  0.        ],\n",
       "       [ 2.36363636,  0.09090909],\n",
       "       [ 1.6969697 ,  0.18181818],\n",
       "       [ 4.5       ,  0.        ],\n",
       "       [ 1.38095238,  0.16666667],\n",
       "       [ 0.60606061,  0.24242424],\n",
       "       [ 2.3875    ,  0.275     ],\n",
       "       [ 3.73913043,  0.19565217],\n",
       "       [ 1.7       ,  0.2       ],\n",
       "       [ 4.30555556,  0.19444444],\n",
       "       [ 5.15384615,  0.09230769],\n",
       "       [ 0.60810811,  0.5       ],\n",
       "       [ 1.25675676,  0.08108108],\n",
       "       [ 1.18181818,  0.09090909],\n",
       "       [ 1.47368421,  0.05263158],\n",
       "       [ 4.56756757,  1.33783784],\n",
       "       [ 2.34375   ,  1.09375   ],\n",
       "       [ 1.52941176,  0.        ],\n",
       "       [ 1.19753086,  2.64197531],\n",
       "       [ 1.47560976,  0.79268293],\n",
       "       [ 1.9047619 ,  0.12698413],\n",
       "       [ 0.859375  ,  0.671875  ],\n",
       "       [ 0.18181818,  0.59090909],\n",
       "       [11.18518519,  0.45679012],\n",
       "       [ 1.10344828,  0.72413793],\n",
       "       [ 2.09230769,  0.10769231],\n",
       "       [ 2.75      ,  0.27777778],\n",
       "       [ 0.35294118,  0.05882353],\n",
       "       [ 0.98275862,  1.34482759],\n",
       "       [ 1.33333333,  0.5       ],\n",
       "       [ 0.4375    ,  0.95833333],\n",
       "       [ 0.47619048,  1.04761905],\n",
       "       [ 0.16666667,  0.33333333],\n",
       "       [ 0.97014925,  0.59701493],\n",
       "       [ 4.14285714,  0.2244898 ],\n",
       "       [ 0.        ,  0.        ],\n",
       "       [ 7.28358209,  0.64179104],\n",
       "       [ 1.01754386,  0.96491228],\n",
       "       [ 4.95588235,  1.27941176],\n",
       "       [ 1.40540541,  1.24324324],\n",
       "       [ 2.26086957,  0.08695652],\n",
       "       [ 5.80555556,  0.34722222],\n",
       "       [ 2.5       ,  0.        ],\n",
       "       [ 0.6       ,  0.        ],\n",
       "       [ 2.375     ,  0.        ],\n",
       "       [ 5.19230769,  0.09615385],\n",
       "       [ 0.86363636,  0.24242424],\n",
       "       [ 4.87654321,  0.0617284 ],\n",
       "       [ 4.94827586,  0.0862069 ],\n",
       "       [ 4.69565217,  0.        ],\n",
       "       [ 3.19178082,  0.60273973],\n",
       "       [ 4.91780822,  0.76712329],\n",
       "       [ 0.        ,  0.4       ],\n",
       "       [ 2.6       ,  0.08333333],\n",
       "       [ 1.18518519,  1.66666667],\n",
       "       [ 2.16      ,  0.45333333],\n",
       "       [ 0.93055556,  0.52777778],\n",
       "       [ 0.66197183,  0.67605634],\n",
       "       [ 1.55555556,  0.05555556],\n",
       "       [ 0.95      ,  0.        ],\n",
       "       [ 4.85507246,  0.08695652],\n",
       "       [ 0.57142857,  1.27272727],\n",
       "       [ 5.85333333,  0.26666667],\n",
       "       [ 5.11111111,  0.38888889],\n",
       "       [ 1.82894737,  0.26315789],\n",
       "       [ 0.72222222,  0.5       ],\n",
       "       [ 0.54716981,  0.32075472],\n",
       "       [ 2.34666667,  1.65333333],\n",
       "       [ 0.98765432,  1.44444444],\n",
       "       [ 6.95      ,  0.31666667],\n",
       "       [ 0.2       ,  0.        ],\n",
       "       [ 2.8       ,  0.05454545],\n",
       "       [ 0.61290323,  0.77419355],\n",
       "       [ 0.40350877,  0.45614035],\n",
       "       [ 0.25714286,  0.34285714],\n",
       "       [ 6.59259259,  0.12345679],\n",
       "       [ 0.22077922,  0.87012987],\n",
       "       [ 0.19178082,  0.83561644],\n",
       "       [ 3.5       ,  0.0375    ],\n",
       "       [ 2.30864198,  0.4691358 ],\n",
       "       [ 0.7962963 ,  0.57407407],\n",
       "       [ 3.94545455,  0.23636364],\n",
       "       [ 1.26315789,  0.15789474],\n",
       "       [ 1.35714286,  0.58571429],\n",
       "       [ 1.26415094,  0.03773585],\n",
       "       [ 5.13333333,  0.10666667],\n",
       "       [ 0.85      ,  0.125     ],\n",
       "       [ 2.23913043,  0.80434783],\n",
       "       [ 0.98039216,  1.        ],\n",
       "       [ 1.03448276,  0.89655172],\n",
       "       [ 0.90909091,  1.13636364],\n",
       "       [ 0.73684211,  1.57894737],\n",
       "       [ 1.89230769,  1.13846154],\n",
       "       [ 1.33333333,  0.8       ],\n",
       "       [ 3.15      ,  1.9       ],\n",
       "       [ 1.48101266,  1.3164557 ],\n",
       "       [ 0.15789474,  0.        ],\n",
       "       [ 1.16      ,  0.98      ],\n",
       "       [ 1.97333333,  0.38666667],\n",
       "       [ 0.25      ,  0.125     ],\n",
       "       [ 0.6       ,  0.2       ],\n",
       "       [ 1.88571429,  0.47142857],\n",
       "       [ 0.90909091,  0.77272727],\n",
       "       [ 4.52380952,  0.03174603],\n",
       "       [ 9.2295082 ,  0.13114754],\n",
       "       [ 1.77419355,  0.16129032],\n",
       "       [ 2.        ,  0.25      ],\n",
       "       [ 1.36363636,  0.        ],\n",
       "       [ 6.45121951,  0.48780488],\n",
       "       [ 2.16666667,  0.66666667],\n",
       "       [ 0.47619048,  0.19047619],\n",
       "       [ 3.50617284,  1.13580247],\n",
       "       [ 3.96296296,  1.16666667],\n",
       "       [ 2.59259259,  1.07407407],\n",
       "       [ 0.46666667,  0.28888889],\n",
       "       [ 0.5625    ,  0.28125   ],\n",
       "       [ 0.23076923,  0.30769231],\n",
       "       [ 0.22222222,  0.37037037],\n",
       "       [ 0.63636364,  0.50649351],\n",
       "       [ 1.28571429,  0.07142857],\n",
       "       [ 1.30769231,  0.07692308],\n",
       "       [ 0.75      ,  0.125     ],\n",
       "       [ 1.55555556,  0.05555556],\n",
       "       [ 0.36619718,  0.66197183],\n",
       "       [ 1.26829268,  0.02439024],\n",
       "       [ 5.05882353,  0.05882353],\n",
       "       [ 6.68115942,  0.15942029],\n",
       "       [ 4.421875  ,  0.265625  ],\n",
       "       [ 1.77027027,  0.14864865],\n",
       "       [ 9.09333333,  0.13333333],\n",
       "       [ 4.80952381,  0.25396825],\n",
       "       [ 0.        ,  0.2       ],\n",
       "       [ 6.3164557 ,  0.20253165],\n",
       "       [ 2.58      ,  0.06      ],\n",
       "       [ 5.16049383,  0.40740741],\n",
       "       [ 0.5       ,  0.74324324],\n",
       "       [ 0.80487805,  0.5       ],\n",
       "       [ 0.5       ,  0.125     ],\n",
       "       [ 1.        ,  0.        ],\n",
       "       [ 0.        ,  0.14285714],\n",
       "       [ 2.15384615,  0.        ],\n",
       "       [ 0.5       ,  3.        ],\n",
       "       [ 0.        ,  0.        ],\n",
       "       [ 1.        ,  6.        ],\n",
       "       [ 0.75      ,  0.25      ],\n",
       "       [ 7.79268293,  0.3902439 ],\n",
       "       [ 5.90789474,  0.17105263],\n",
       "       [ 0.98717949,  1.07692308],\n",
       "       [ 0.5       ,  0.        ],\n",
       "       [ 2.68292683,  1.25609756],\n",
       "       [ 1.30864198,  2.13580247],\n",
       "       [ 3.35897436,  0.        ],\n",
       "       [ 3.70491803,  0.08196721],\n",
       "       [ 0.7125    ,  0.7875    ],\n",
       "       [ 0.94594595,  0.05405405],\n",
       "       [ 0.71428571,  0.21428571],\n",
       "       [ 1.66666667,  0.33333333],\n",
       "       [ 2.77333333,  0.98666667],\n",
       "       [ 5.50632911,  0.27848101],\n",
       "       [10.65384615,  0.62820513],\n",
       "       [ 1.83870968,  0.03225806],\n",
       "       [ 1.05      ,  0.05      ],\n",
       "       [ 0.71428571,  0.14285714],\n",
       "       [ 1.23076923,  0.        ],\n",
       "       [ 2.22058824,  0.70588235],\n",
       "       [10.37037037,  0.38271605],\n",
       "       [ 2.63013699,  0.49315068],\n",
       "       [ 0.74025974,  2.09090909],\n",
       "       [ 0.4893617 ,  0.68085106],\n",
       "       [ 5.625     ,  0.125     ],\n",
       "       [ 6.85      ,  0.05      ],\n",
       "       [ 3.58333333,  0.25      ],\n",
       "       [ 0.1372549 ,  0.62745098],\n",
       "       [ 2.11111111,  0.40740741],\n",
       "       [ 0.45454545,  0.        ],\n",
       "       [ 0.82352941,  0.41176471],\n",
       "       [ 0.21052632,  0.26315789],\n",
       "       [ 0.78947368,  0.86842105]])"
      ]
     },
     "execution_count": 80,
     "metadata": {},
     "output_type": "execute_result"
    }
   ],
   "source": [
    "data"
   ]
  },
  {
   "cell_type": "code",
   "execution_count": 81,
   "metadata": {},
   "outputs": [],
   "source": [
    "data=pg_c[['APG','BPG']].values\n",
    "ans=pg_c['Pos'].values"
   ]
  },
  {
   "cell_type": "code",
   "execution_count": 82,
   "metadata": {},
   "outputs": [],
   "source": [
    "x_train, x_test, y_train, y_test= train_test_split(data, ans, test_size=0.25, random_state=42)"
   ]
  },
  {
   "cell_type": "code",
   "execution_count": 86,
   "metadata": {},
   "outputs": [],
   "source": [
    "#create the model\n",
    "from sklearn.linear_model import LogisticRegression\n",
    "logisticReg =LogisticRegression()"
   ]
  },
  {
   "cell_type": "code",
   "execution_count": 87,
   "metadata": {},
   "outputs": [
    {
     "name": "stderr",
     "output_type": "stream",
     "text": [
      "C:\\ProgramData\\Anaconda3\\lib\\site-packages\\sklearn\\linear_model\\logistic.py:432: FutureWarning: Default solver will be changed to 'lbfgs' in 0.22. Specify a solver to silence this warning.\n",
      "  FutureWarning)\n"
     ]
    },
    {
     "data": {
      "text/plain": [
       "LogisticRegression(C=1.0, class_weight=None, dual=False, fit_intercept=True,\n",
       "                   intercept_scaling=1, l1_ratio=None, max_iter=100,\n",
       "                   multi_class='warn', n_jobs=None, penalty='l2',\n",
       "                   random_state=None, solver='warn', tol=0.0001, verbose=0,\n",
       "                   warm_start=False)"
      ]
     },
     "execution_count": 87,
     "metadata": {},
     "output_type": "execute_result"
    }
   ],
   "source": [
    "logisticReg.fit(x_train, y_train)"
   ]
  },
  {
   "cell_type": "code",
   "execution_count": 88,
   "metadata": {},
   "outputs": [
    {
     "data": {
      "text/plain": [
       "array(['PG', 'C', 'PG', 'C', 'C', 'C', 'C', 'C', 'PG', 'PG', 'C', 'PG',\n",
       "       'PG', 'PG', 'PG', 'PG', 'C', 'PG', 'PG', 'PG', 'C', 'C', 'PG',\n",
       "       'PG', 'C', 'PG', 'C', 'PG', 'PG', 'C', 'PG', 'PG', 'C', 'PG', 'C',\n",
       "       'C', 'PG', 'C', 'C', 'C', 'PG', 'C', 'C', 'C', 'PG', 'C', 'C',\n",
       "       'PG', 'C', 'C', 'C', 'PG', 'C', 'C', 'C', 'PG', 'PG', 'C'],\n",
       "      dtype=object)"
      ]
     },
     "execution_count": 88,
     "metadata": {},
     "output_type": "execute_result"
    }
   ],
   "source": [
    "pred=logisticReg.predict(x_test)\n",
    "pred"
   ]
  },
  {
   "cell_type": "code",
   "execution_count": 89,
   "metadata": {},
   "outputs": [
    {
     "data": {
      "text/plain": [
       "0.9827586206896551"
      ]
     },
     "execution_count": 89,
     "metadata": {},
     "output_type": "execute_result"
    }
   ],
   "source": [
    "#there is a score function directly from LogisticRegression which can be used to calculate\n",
    "#the correct rate\n",
    "logisticReg.score(x_test, y_test)"
   ]
  },
  {
   "cell_type": "code",
   "execution_count": 90,
   "metadata": {},
   "outputs": [],
   "source": [
    "#next One is for Knn, we can use the same training set and test set"
   ]
  },
  {
   "cell_type": "code",
   "execution_count": 91,
   "metadata": {},
   "outputs": [],
   "source": [
    "from sklearn.neighbors import KNeighborsClassifier"
   ]
  },
  {
   "cell_type": "code",
   "execution_count": 127,
   "metadata": {},
   "outputs": [],
   "source": [
    "#Create the model\n",
    "knn=KNeighborsClassifier(n_neighbors=7)"
   ]
  },
  {
   "cell_type": "code",
   "execution_count": 128,
   "metadata": {},
   "outputs": [
    {
     "data": {
      "text/plain": [
       "KNeighborsClassifier(algorithm='auto', leaf_size=30, metric='minkowski',\n",
       "                     metric_params=None, n_jobs=None, n_neighbors=7, p=2,\n",
       "                     weights='uniform')"
      ]
     },
     "execution_count": 128,
     "metadata": {},
     "output_type": "execute_result"
    }
   ],
   "source": [
    "knn.fit(x_train, y_train)\n"
   ]
  },
  {
   "cell_type": "code",
   "execution_count": 129,
   "metadata": {},
   "outputs": [
    {
     "data": {
      "text/plain": [
       "array(['PG', 'C', 'PG', 'C', 'C', 'C', 'C', 'C', 'PG', 'PG', 'C', 'PG',\n",
       "       'PG', 'PG', 'PG', 'C', 'C', 'PG', 'C', 'PG', 'C', 'C', 'PG', 'PG',\n",
       "       'C', 'C', 'C', 'PG', 'PG', 'C', 'PG', 'PG', 'C', 'PG', 'C', 'C',\n",
       "       'PG', 'C', 'C', 'C', 'PG', 'C', 'C', 'C', 'PG', 'C', 'C', 'PG',\n",
       "       'C', 'C', 'C', 'PG', 'C', 'C', 'C', 'PG', 'PG', 'C'], dtype=object)"
      ]
     },
     "execution_count": 129,
     "metadata": {},
     "output_type": "execute_result"
    }
   ],
   "source": [
    "pred=knn.predict(x_test)\n",
    "pred"
   ]
  },
  {
   "cell_type": "code",
   "execution_count": 130,
   "metadata": {},
   "outputs": [
    {
     "data": {
      "text/plain": [
       "0.9310344827586207"
      ]
     },
     "execution_count": 130,
     "metadata": {},
     "output_type": "execute_result"
    }
   ],
   "source": [
    "knn.score(x_test, y_test)"
   ]
  },
  {
   "cell_type": "code",
   "execution_count": null,
   "metadata": {},
   "outputs": [],
   "source": []
  },
  {
   "cell_type": "code",
   "execution_count": null,
   "metadata": {},
   "outputs": [],
   "source": []
  }
 ],
 "metadata": {
  "kernelspec": {
   "display_name": "Python 3",
   "language": "python",
   "name": "python3"
  },
  "language_info": {
   "codemirror_mode": {
    "name": "ipython",
    "version": 3
   },
   "file_extension": ".py",
   "mimetype": "text/x-python",
   "name": "python",
   "nbconvert_exporter": "python",
   "pygments_lexer": "ipython3",
   "version": "3.6.10"
  }
 },
 "nbformat": 4,
 "nbformat_minor": 2
}
